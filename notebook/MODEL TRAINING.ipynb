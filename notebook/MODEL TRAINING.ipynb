{
  "nbformat": 4,
  "nbformat_minor": 0,
  "metadata": {
    "colab": {
      "provenance": []
    },
    "kernelspec": {
      "name": "python3",
      "display_name": "Python 3"
    },
    "language_info": {
      "name": "python"
    }
  },
  "cells": [
    {
      "cell_type": "code",
      "execution_count": 29,
      "metadata": {
        "id": "4ubaKuAz_W5g"
      },
      "outputs": [],
      "source": [
        "# Basic Import\n",
        "import numpy as np\n",
        "import pandas as pd\n",
        "import matplotlib.pyplot as plt \n",
        "import seaborn as sns\n",
        "# Modelling\n",
        "from sklearn.linear_model import LogisticRegression\n",
        "from sklearn.metrics import accuracy_score\n",
        "from sklearn.tree import DecisionTreeClassifier\n",
        "from sklearn.ensemble import RandomForestClassifier\n",
        "from xgboost import XGBClassifier\n",
        "from sklearn.naive_bayes import GaussianNB\n",
        "from sklearn.ensemble import GradientBoostingClassifier\n",
        "from lightgbm import LGBMClassifier\n",
        "from sklearn.neighbors import KNeighborsClassifier\n",
        "from sklearn.svm import SVC\n",
        "import warnings\n",
        "from sklearn.model_selection import train_test_split"
      ]
    },
    {
      "cell_type": "code",
      "source": [
        "df = pd.read_csv('/content/sample_data/train_u6lujuX_CVtuZ9i.csv')\n",
        "dftest=pd.read_csv('/content/sample_data/test_Y3wMUE5_7gLdaTN.csv')"
      ],
      "metadata": {
        "id": "NB0dhg75AST9"
      },
      "execution_count": 30,
      "outputs": []
    },
    {
      "cell_type": "code",
      "source": [
        "df=df.dropna()"
      ],
      "metadata": {
        "id": "EZFo3E6FA2LF"
      },
      "execution_count": 31,
      "outputs": []
    },
    {
      "cell_type": "code",
      "source": [
        "dftest=dftest.dropna()"
      ],
      "metadata": {
        "id": "NHHQ2El3A3_z"
      },
      "execution_count": 32,
      "outputs": []
    },
    {
      "cell_type": "code",
      "source": [
        "df=df.drop(columns=\"Loan_ID\",axis=1)"
      ],
      "metadata": {
        "id": "CjYSjvmzBCY6"
      },
      "execution_count": 33,
      "outputs": []
    },
    {
      "cell_type": "code",
      "source": [
        "dftest=dftest.drop(columns=\"Loan_ID\",axis=1)"
      ],
      "metadata": {
        "id": "lva3seVqBHOi"
      },
      "execution_count": 34,
      "outputs": []
    },
    {
      "cell_type": "code",
      "source": [
        "X = df.drop(columns=['Loan_Status'],axis=1)"
      ],
      "metadata": {
        "id": "Nzz71FG9BUM6"
      },
      "execution_count": 35,
      "outputs": []
    },
    {
      "cell_type": "code",
      "source": [
        "y = df['Loan_Status']"
      ],
      "metadata": {
        "id": "J66abCQ3BZC8"
      },
      "execution_count": 36,
      "outputs": []
    },
    {
      "cell_type": "code",
      "source": [
        "y.head()"
      ],
      "metadata": {
        "colab": {
          "base_uri": "https://localhost:8080/"
        },
        "id": "OY_4QfPbBd5C",
        "outputId": "b3052960-4522-4737-c7a0-288b150c0276"
      },
      "execution_count": 37,
      "outputs": [
        {
          "output_type": "execute_result",
          "data": {
            "text/plain": [
              "1    N\n",
              "2    Y\n",
              "3    Y\n",
              "4    Y\n",
              "5    Y\n",
              "Name: Loan_Status, dtype: object"
            ]
          },
          "metadata": {},
          "execution_count": 37
        }
      ]
    },
    {
      "cell_type": "code",
      "source": [
        "y=y.apply(lambda x: 1 if x=='Y'  else 0)"
      ],
      "metadata": {
        "id": "Z_oHbBtdCWKe"
      },
      "execution_count": 38,
      "outputs": []
    },
    {
      "cell_type": "code",
      "source": [
        "y.head()"
      ],
      "metadata": {
        "colab": {
          "base_uri": "https://localhost:8080/"
        },
        "id": "qEFuMVEKC8VC",
        "outputId": "a72f5a45-53e0-4ac3-8404-5181a3e8f873"
      },
      "execution_count": 39,
      "outputs": [
        {
          "output_type": "execute_result",
          "data": {
            "text/plain": [
              "1    0\n",
              "2    1\n",
              "3    1\n",
              "4    1\n",
              "5    1\n",
              "Name: Loan_Status, dtype: int64"
            ]
          },
          "metadata": {},
          "execution_count": 39
        }
      ]
    },
    {
      "cell_type": "code",
      "source": [
        "# Create Column Transformer with 3 types of transformers\n",
        "num_features = X.select_dtypes(exclude=\"object\").columns\n",
        "cat_features = X.select_dtypes(include=\"object\").columns\n",
        "\n",
        "from sklearn.preprocessing import OneHotEncoder, StandardScaler\n",
        "from sklearn.compose import ColumnTransformer\n",
        "\n",
        "numeric_transformer = StandardScaler()\n",
        "oh_transformer = OneHotEncoder()\n",
        "\n",
        "preprocessor = ColumnTransformer(\n",
        "    [\n",
        "        (\"OneHotEncoder\", oh_transformer, cat_features),\n",
        "         (\"StandardScaler\", numeric_transformer, num_features),        \n",
        "    ]\n",
        ")"
      ],
      "metadata": {
        "id": "65nIlaDWDCO0"
      },
      "execution_count": 40,
      "outputs": []
    },
    {
      "cell_type": "code",
      "source": [
        "X = preprocessor.fit_transform(X)"
      ],
      "metadata": {
        "id": "TvFRJGIgDD-C"
      },
      "execution_count": 41,
      "outputs": []
    },
    {
      "cell_type": "code",
      "source": [
        "def evaluate_model(true, predicted):\n",
        "    accuracy = accuracy_score(true, predicted)\n",
        "    return accuracy"
      ],
      "metadata": {
        "id": "ACKHRvg6DJAC"
      },
      "execution_count": 42,
      "outputs": []
    },
    {
      "cell_type": "code",
      "source": [
        "models = {\n",
        "    \"LogisticRegression\": LogisticRegression(),\n",
        "    \"DecisionTreeClassifier\": DecisionTreeClassifier(),\n",
        "    \"RandomForestClassifier\": RandomForestClassifier(),\n",
        "    \"XGBClassifier\": XGBClassifier(),\n",
        "    \"GaussianNB\": GaussianNB(),\n",
        "    \"GradientBoostingClassifier\": GradientBoostingClassifier(),\n",
        "    \"LGBMClassifier\": LGBMClassifier(),\n",
        "    \"KNeighborsClassifier\": KNeighborsClassifier(),\n",
        "    \"SVC\": SVC(),\n",
        "}"
      ],
      "metadata": {
        "id": "hpCgaIYjDbEk"
      },
      "execution_count": 43,
      "outputs": []
    },
    {
      "cell_type": "code",
      "source": [
        "model_list = []\n",
        "r2_list =[]"
      ],
      "metadata": {
        "id": "eNaI7JvFDyqk"
      },
      "execution_count": 44,
      "outputs": []
    },
    {
      "cell_type": "code",
      "source": [
        "y_test = preprocessor.fit_transform(dftest)"
      ],
      "metadata": {
        "id": "NSVHKRPFEjlS"
      },
      "execution_count": 45,
      "outputs": []
    },
    {
      "cell_type": "code",
      "source": [
        "# separate dataset into train and test\n",
        "X_train, X_test, y_train, y_test = train_test_split(X,y,test_size=0.2,random_state=42)\n",
        "X_train.shape, X_test.shape"
      ],
      "metadata": {
        "colab": {
          "base_uri": "https://localhost:8080/"
        },
        "id": "SWoIUUlPGKy5",
        "outputId": "2fd02e60-fc56-4f79-fa2b-4a0127777ff0"
      },
      "execution_count": 46,
      "outputs": [
        {
          "output_type": "execute_result",
          "data": {
            "text/plain": [
              "((384, 20), (96, 20))"
            ]
          },
          "metadata": {},
          "execution_count": 46
        }
      ]
    },
    {
      "cell_type": "code",
      "source": [
        "for i in range(len(list(models))):\n",
        "    model = list(models.values())[i]\n",
        "    model.fit(X_train, y_train) # Train model\n",
        "\n",
        "    # Make predictions\n",
        "    y_train_pred = model.predict(X_train)\n",
        "    y_test_pred = model.predict(X_test)\n",
        "    \n",
        "    # Evaluate Train and Test dataset\n",
        "    accuracy = evaluate_model(y_train, y_train_pred)\n",
        "\n",
        "    accuracy1 = evaluate_model(y_test, y_test_pred)\n",
        "\n",
        "    \n",
        "    print(list(models.keys())[i])\n",
        "    model_list.append(list(models.keys())[i])\n",
        "    \n",
        "    print('Model performance for Training set')\n",
        "    print(\"-accuracy: {:.4f}\".format(accuracy))\n",
        "  \n",
        "\n",
        "    print('----------------------------------')\n",
        "    \n",
        "    print('Model performance for Test set')\n",
        "    print(\"- accuracy: {:.4f}\".format(accuracy1))\n",
        "    \n",
        "    print('='*35)\n",
        "    print('\\n')"
      ],
      "metadata": {
        "colab": {
          "base_uri": "https://localhost:8080/"
        },
        "id": "nFJFJURxDzms",
        "outputId": "b10c6acd-6b0d-410e-f2bc-f89f6b47968c"
      },
      "execution_count": 48,
      "outputs": [
        {
          "output_type": "stream",
          "name": "stdout",
          "text": [
            "LogisticRegression\n",
            "Model performance for Training set\n",
            "-accuracy: 0.8073\n",
            "----------------------------------\n",
            "Model performance for Test set\n",
            "- accuracy: 0.8229\n",
            "===================================\n",
            "\n",
            "\n",
            "DecisionTreeClassifier\n",
            "Model performance for Training set\n",
            "-accuracy: 1.0000\n",
            "----------------------------------\n",
            "Model performance for Test set\n",
            "- accuracy: 0.7396\n",
            "===================================\n",
            "\n",
            "\n",
            "RandomForestClassifier\n",
            "Model performance for Training set\n",
            "-accuracy: 1.0000\n",
            "----------------------------------\n",
            "Model performance for Test set\n",
            "- accuracy: 0.8125\n",
            "===================================\n",
            "\n",
            "\n",
            "XGBClassifier\n",
            "Model performance for Training set\n",
            "-accuracy: 1.0000\n",
            "----------------------------------\n",
            "Model performance for Test set\n",
            "- accuracy: 0.7917\n",
            "===================================\n",
            "\n",
            "\n",
            "GaussianNB\n",
            "Model performance for Training set\n",
            "-accuracy: 0.7943\n",
            "----------------------------------\n",
            "Model performance for Test set\n",
            "- accuracy: 0.8229\n",
            "===================================\n",
            "\n",
            "\n",
            "GradientBoostingClassifier\n",
            "Model performance for Training set\n",
            "-accuracy: 0.8958\n",
            "----------------------------------\n",
            "Model performance for Test set\n",
            "- accuracy: 0.8125\n",
            "===================================\n",
            "\n",
            "\n",
            "LGBMClassifier\n",
            "Model performance for Training set\n",
            "-accuracy: 0.9844\n",
            "----------------------------------\n",
            "Model performance for Test set\n",
            "- accuracy: 0.8125\n",
            "===================================\n",
            "\n",
            "\n",
            "KNeighborsClassifier\n",
            "Model performance for Training set\n",
            "-accuracy: 0.8203\n",
            "----------------------------------\n",
            "Model performance for Test set\n",
            "- accuracy: 0.8229\n",
            "===================================\n",
            "\n",
            "\n",
            "SVC\n",
            "Model performance for Training set\n",
            "-accuracy: 0.8333\n",
            "----------------------------------\n",
            "Model performance for Test set\n",
            "- accuracy: 0.8229\n",
            "===================================\n",
            "\n",
            "\n"
          ]
        }
      ]
    }
  ]
}